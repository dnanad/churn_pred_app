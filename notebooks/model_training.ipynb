{
 "cells": [
  {
   "cell_type": "markdown",
   "id": "851b5c81-d773-46bc-a223-65dfbab13732",
   "metadata": {},
   "source": [
    "## Customer Churn Prediction Model\n",
    "\n",
    "Using the [Telco customer churn data](https://www.kaggle.com/code/mechatronixs/telco-churn-prediction-feature-engineering-eda/data) from kaggle, train a machine learning model to predict customer churn."
   ]
  },
  {
   "cell_type": "code",
   "execution_count": null,
   "id": "c2b1d345-2798-4987-9c1a-234ecd77cdfd",
   "metadata": {},
   "outputs": [
    {
     "ename": "",
     "evalue": "",
     "output_type": "error",
     "traceback": [
      "\u001b[1;31mThe kernel failed to start as the Python Environment 'churn_pred_app-l7qDhG3o' is no longer available. Consider selecting another kernel or refreshing the list of Python Environments."
     ]
    }
   ],
   "source": [
    "import pandas as pd"
   ]
  },
  {
   "cell_type": "code",
   "execution_count": 2,
   "id": "35cc697b-2333-49e0-a1b2-c81266c43059",
   "metadata": {},
   "outputs": [],
   "source": [
    "# get training data\n",
    "train = pd.read_csv(\"./data/training_data.csv\")\n",
    "# drop customer ID: not a feature for training\n",
    "train.drop(\"customerID\", axis=1, inplace=True)\n",
    "\n",
    "# getting validation data\n",
    "val = pd.read_csv(\"./data/validation_data.csv\")"
   ]
  },
  {
   "cell_type": "code",
   "execution_count": 6,
   "id": "be0100da",
   "metadata": {},
   "outputs": [
    {
     "name": "stdout",
     "output_type": "stream",
     "text": [
      "<class 'pandas.core.frame.DataFrame'>\n",
      "RangeIndex: 5282 entries, 0 to 5281\n",
      "Data columns (total 20 columns):\n",
      " #   Column            Non-Null Count  Dtype  \n",
      "---  ------            --------------  -----  \n",
      " 0   gender            5282 non-null   object \n",
      " 1   SeniorCitizen     5282 non-null   int64  \n",
      " 2   Partner           5282 non-null   object \n",
      " 3   Dependents        5282 non-null   object \n",
      " 4   tenure            5282 non-null   int64  \n",
      " 5   PhoneService      5282 non-null   object \n",
      " 6   MultipleLines     5282 non-null   object \n",
      " 7   InternetService   5282 non-null   object \n",
      " 8   OnlineSecurity    5282 non-null   object \n",
      " 9   OnlineBackup      5282 non-null   object \n",
      " 10  DeviceProtection  5282 non-null   object \n",
      " 11  TechSupport       5282 non-null   object \n",
      " 12  StreamingTV       5282 non-null   object \n",
      " 13  StreamingMovies   5282 non-null   object \n",
      " 14  Contract          5282 non-null   object \n",
      " 15  PaperlessBilling  5282 non-null   object \n",
      " 16  PaymentMethod     5282 non-null   object \n",
      " 17  MonthlyCharges    5282 non-null   float64\n",
      " 18  TotalCharges      5282 non-null   object \n",
      " 19  Churn             5282 non-null   object \n",
      "dtypes: float64(1), int64(2), object(17)\n",
      "memory usage: 825.4+ KB\n"
     ]
    }
   ],
   "source": [
    "train.info()"
   ]
  },
  {
   "cell_type": "code",
   "execution_count": 8,
   "id": "415349e7",
   "metadata": {},
   "outputs": [
    {
     "data": {
      "text/plain": [
       "str"
      ]
     },
     "execution_count": 8,
     "metadata": {},
     "output_type": "execute_result"
    }
   ],
   "source": [
    "type(train[\"TotalCharges\"][0])"
   ]
  },
  {
   "attachments": {},
   "cell_type": "markdown",
   "id": "b53b72cc",
   "metadata": {},
   "source": [
    "#### Converting entries from the column 'TotalCharges' from str to float."
   ]
  },
  {
   "cell_type": "code",
   "execution_count": 9,
   "id": "7f08e106",
   "metadata": {},
   "outputs": [],
   "source": [
    "train[\"TotalCharges\"] = pd.to_numeric(train[\"TotalCharges\"], errors=\"coerce\")\n",
    "val[\"TotalCharges\"] = pd.to_numeric(val[\"TotalCharges\"], errors=\"coerce\")"
   ]
  },
  {
   "cell_type": "markdown",
   "id": "77991412",
   "metadata": {},
   "source": [
    "### Split data and target"
   ]
  },
  {
   "cell_type": "code",
   "execution_count": 11,
   "id": "011673e3",
   "metadata": {},
   "outputs": [],
   "source": [
    "train_X = train.drop([\"Churn\"], axis=1)\n",
    "train_y = train[\"Churn\"]\n",
    "\n",
    "val_X = val.drop([\"Churn\"], axis=1)\n",
    "val_y = val[\"Churn\"]"
   ]
  },
  {
   "cell_type": "code",
   "execution_count": 28,
   "id": "68ffa278",
   "metadata": {},
   "outputs": [],
   "source": [
    "from sklearn.datasets import make_classification\n",
    "from sklearn.linear_model import LogisticRegression\n",
    "\n",
    "# XGBoost\n",
    "from sklearn.ensemble import GradientBoostingClassifier\n",
    "\n",
    "# Random Forest\n",
    "from sklearn.ensemble import RandomForestClassifier\n",
    "\n",
    "# Support Vector Machine\n",
    "from sklearn.svm import SVC\n",
    "\n",
    "# K-Nearest Neighbors\n",
    "from sklearn.neighbors import KNeighborsClassifier\n",
    "\n",
    "# Decision Tree\n",
    "from sklearn.tree import DecisionTreeClassifier\n",
    "\n",
    "# Naive Bayes\n",
    "from sklearn.naive_bayes import GaussianNB\n",
    "\n",
    "# Neural Network\n",
    "from sklearn.neural_network import MLPClassifier\n",
    "\n",
    "from sklearn.model_selection import train_test_split\n",
    "from sklearn.pipeline import make_pipeline\n",
    "from sklearn.preprocessing import StandardScaler, OneHotEncoder, LabelEncoder\n",
    "\n",
    "import numpy as np\n",
    "\n",
    "from sklearn.compose import ColumnTransformer\n",
    "from sklearn.pipeline import Pipeline\n",
    "from sklearn.impute import SimpleImputer\n",
    "from sklearn.model_selection import train_test_split, GridSearchCV\n",
    "\n",
    "from sklearn.metrics import classification_report\n",
    "from sklearn.metrics import ConfusionMatrixDisplay"
   ]
  },
  {
   "cell_type": "code",
   "execution_count": 14,
   "id": "54dd2689",
   "metadata": {},
   "outputs": [],
   "source": [
    "numeric_features = [\"tenure\", \"MonthlyCharges\", \"TotalCharges\"]\n",
    "numeric_transformer = Pipeline(steps=[(\"scaler\", StandardScaler())])\n",
    "\n",
    "categorical_features = [\n",
    "    \"gender\",\n",
    "    \"Partner\",\n",
    "    \"Dependents\",\n",
    "    \"PhoneService\",\n",
    "    \"MultipleLines\",\n",
    "    \"InternetService\",\n",
    "    \"OnlineSecurity\",\n",
    "    \"OnlineBackup\",\n",
    "    \"DeviceProtection\",\n",
    "    \"TechSupport\",\n",
    "    \"StreamingTV\",\n",
    "    \"StreamingMovies\",\n",
    "    \"Contract\",\n",
    "    \"PaperlessBilling\",\n",
    "    \"PaymentMethod\",\n",
    "]\n",
    "categorical_transformer = OneHotEncoder(handle_unknown=\"ignore\")\n",
    "\n",
    "le = LabelEncoder()\n",
    "\n",
    "\n",
    "preprocessor = ColumnTransformer(\n",
    "    transformers=[\n",
    "        (\"num\", numeric_transformer, numeric_features),\n",
    "        (\"cat\", categorical_transformer, categorical_features),\n",
    "    ]\n",
    ")"
   ]
  },
  {
   "cell_type": "code",
   "execution_count": 15,
   "id": "d4a1af13",
   "metadata": {},
   "outputs": [],
   "source": [
    "le.fit(train_y)\n",
    "train_y = le.transform(train_y)\n",
    "val_y = le.transform(val_y)"
   ]
  },
  {
   "attachments": {},
   "cell_type": "markdown",
   "id": "5028ef60",
   "metadata": {},
   "source": [
    "# Logistic Regression"
   ]
  },
  {
   "cell_type": "code",
   "execution_count": 19,
   "id": "43bc5b39",
   "metadata": {},
   "outputs": [
    {
     "data": {
      "text/plain": [
       "0.8344283837056504"
      ]
     },
     "execution_count": 19,
     "metadata": {},
     "output_type": "execute_result"
    }
   ],
   "source": [
    "logistic_regression_pipe = Pipeline(\n",
    "    steps=[\n",
    "        (\"preprocessor\", preprocessor),\n",
    "        (\"imputer\", SimpleImputer(strategy=\"median\")),\n",
    "        (\"classifier\", LogisticRegression()),\n",
    "    ]\n",
    ")\n",
    "logistic_regression_pipe.fit(train_X, train_y)  # apply scaling on training data\n",
    "\n",
    "logistic_regression_pipe.score(\n",
    "    val_X, val_y\n",
    ")  # apply scaling on testing data, without leaking training data."
   ]
  },
  {
   "cell_type": "code",
   "execution_count": 20,
   "id": "7dd83de3",
   "metadata": {},
   "outputs": [],
   "source": [
    "logistic_regression_y_pred = logistic_regression_pipe.predict(val_X)"
   ]
  },
  {
   "cell_type": "code",
   "execution_count": 22,
   "id": "d94565ad",
   "metadata": {},
   "outputs": [],
   "source": [
    "target_names = le.inverse_transform([0, 1])"
   ]
  },
  {
   "cell_type": "code",
   "execution_count": 26,
   "id": "7f7b0e22",
   "metadata": {},
   "outputs": [
    {
     "name": "stdout",
     "output_type": "stream",
     "text": [
      "              precision    recall  f1-score   support\n",
      "\n",
      "          No       0.89      0.91      0.90       596\n",
      "         Yes       0.63      0.58      0.60       165\n",
      "\n",
      "    accuracy                           0.83       761\n",
      "   macro avg       0.76      0.74      0.75       761\n",
      "weighted avg       0.83      0.83      0.83       761\n",
      "\n"
     ]
    },
    {
     "data": {
      "text/plain": [
       "<sklearn.metrics._plot.confusion_matrix.ConfusionMatrixDisplay at 0x1f7a669dac0>"
      ]
     },
     "execution_count": 26,
     "metadata": {},
     "output_type": "execute_result"
    },
    {
     "data": {
      "image/png": "[encoded data removed]",
      "text/plain": [
       "<Figure size 640x480 with 2 Axes>"
      ]
     },
     "metadata": {},
     "output_type": "display_data"
    }
   ],
   "source": [
    "print(\n",
    "    classification_report(val_y, logistic_regression_y_pred, target_names=target_names)\n",
    ")\n",
    "ConfusionMatrixDisplay.from_estimator(\n",
    "    logistic_regression_pipe,\n",
    "    val_X,\n",
    "    val_y,\n",
    "    display_labels=target_names,\n",
    "    xticks_rotation=\"vertical\",\n",
    ")\n",
    "# plt.tight_layout()\n",
    "# plt.show()"
   ]
  },
  {
   "attachments": {},
   "cell_type": "markdown",
   "id": "80c0f211",
   "metadata": {},
   "source": [
    "# XGBoost"
   ]
  },
  {
   "cell_type": "code",
   "execution_count": 29,
   "id": "1d7bb77a",
   "metadata": {},
   "outputs": [
    {
     "data": {
      "text/plain": [
       "0.8409986859395532"
      ]
     },
     "execution_count": 29,
     "metadata": {},
     "output_type": "execute_result"
    }
   ],
   "source": [
    "XGB_pipe = Pipeline(\n",
    "    steps=[\n",
    "        (\"preprocessor\", preprocessor),\n",
    "        (\"imputer\", SimpleImputer(strategy=\"median\")),\n",
    "        (\"classifier\", GradientBoostingClassifier()),\n",
    "    ]\n",
    ")\n",
    "XGB_pipe.fit(train_X, train_y)  # apply scaling on training data\n",
    "\n",
    "XGB_pipe.score(\n",
    "    val_X, val_y\n",
    ")  # apply scaling on testing data, without leaking training data."
   ]
  },
  {
   "cell_type": "code",
   "execution_count": 30,
   "id": "79285d71",
   "metadata": {},
   "outputs": [],
   "source": [
    "XGB_y_pred = XGB_pipe.predict(val_X)"
   ]
  },
  {
   "cell_type": "code",
   "execution_count": 31,
   "id": "0b8d01a6",
   "metadata": {},
   "outputs": [
    {
     "name": "stdout",
     "output_type": "stream",
     "text": [
      "              precision    recall  f1-score   support\n",
      "\n",
      "          No       0.88      0.92      0.90       596\n",
      "         Yes       0.65      0.57      0.61       165\n",
      "\n",
      "    accuracy                           0.84       761\n",
      "   macro avg       0.77      0.74      0.75       761\n",
      "weighted avg       0.83      0.84      0.84       761\n",
      "\n"
     ]
    },
    {
     "data": {
      "text/plain": [
       "<sklearn.metrics._plot.confusion_matrix.ConfusionMatrixDisplay at 0x1f7a66106d0>"
      ]
     },
     "execution_count": 31,
     "metadata": {},
     "output_type": "execute_result"
    },
    {
     "data": {
      "image/png": "[encoded data removed]",
      "text/plain": [
       "<Figure size 640x480 with 2 Axes>"
      ]
     },
     "metadata": {},
     "output_type": "display_data"
    }
   ],
   "source": [
    "print(classification_report(val_y, XGB_y_pred, target_names=target_names))\n",
    "ConfusionMatrixDisplay.from_estimator(\n",
    "    XGB_pipe, val_X, val_y, display_labels=target_names, xticks_rotation=\"vertical\"\n",
    ")"
   ]
  },
  {
   "cell_type": "code",
   "execution_count": null,
   "id": "917a5f2f",
   "metadata": {},
   "outputs": [],
   "source": []
  },
  {
   "cell_type": "code",
   "execution_count": null,
   "id": "c5cc05b1",
   "metadata": {},
   "outputs": [],
   "source": []
  },
  {
   "cell_type": "code",
   "execution_count": null,
   "id": "1cbd5abd",
   "metadata": {},
   "outputs": [],
   "source": []
  },
  {
   "cell_type": "code",
   "execution_count": null,
   "id": "4256dd51",
   "metadata": {},
   "outputs": [],
   "source": []
  },
  {
   "cell_type": "code",
   "execution_count": null,
   "id": "9d63fbcd",
   "metadata": {},
   "outputs": [],
   "source": []
  },
  {
   "cell_type": "code",
   "execution_count": null,
   "id": "d37dd84c",
   "metadata": {},
   "outputs": [],
   "source": []
  },
  {
   "cell_type": "code",
   "execution_count": null,
   "id": "cd14e579",
   "metadata": {},
   "outputs": [],
   "source": []
  },
  {
   "cell_type": "code",
   "execution_count": 58,
   "id": "a50a2f3e",
   "metadata": {},
   "outputs": [],
   "source": [
    "# pickling mdl\n",
    "import pickle\n",
    "\n",
    "mdl_pickler = open(\"churn_prediction_model.pkl\", \"wb\")\n",
    "pickle.dump(pipe, mdl_pickler)\n",
    "mdl_pickler.close()\n",
    "\n",
    "le_pickler = open(\"churn_prediction_label_encoders.pkl\", \"wb\")\n",
    "pickle.dump({\"Churn\": le}, le_pickler)\n",
    "le_pickler.close()"
   ]
  },
  {
   "cell_type": "code",
   "execution_count": null,
   "id": "7a175a4a",
   "metadata": {},
   "outputs": [],
   "source": []
  }
 ],
 "metadata": {
  "kernelspec": {
   "display_name": "Python 3.9.13 ('streamlite_dsr32-XLfAcoXp')",
   "language": "python",
   "name": "python3"
  },
  "language_info": {
   "codemirror_mode": {
    "name": "ipython",
    "version": 3
   },
   "file_extension": ".py",
   "mimetype": "text/x-python",
   "name": "python",
   "nbconvert_exporter": "python",
   "pygments_lexer": "ipython3",
   "version": "3.9.6"
  },
  "vscode": {
   "interpreter": {
    "hash": "231e6f9f73d0e49698694718242390d86c18f3c7a39dfe1786a307272d1606b8"
   }
  }
 },
 "nbformat": 4,
 "nbformat_minor": 5
}
